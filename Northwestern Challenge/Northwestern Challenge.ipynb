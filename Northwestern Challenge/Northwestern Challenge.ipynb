{
 "cells": [
  {
   "cell_type": "code",
   "execution_count": 6,
   "metadata": {},
   "outputs": [
    {
     "name": "stdout",
     "output_type": "stream",
     "text": [
      "querying 1-933...done.\n",
      "Finished.\n",
      "15 input query terms found no hit:\n",
      "\t['ENSG00000073009', 'ENSG00000090920', 'ENSG00000108270', 'ENSG00000174595', 'ENSG00000182319', 'ENS\n",
      "Pass \"returnall=True\" to return complete lists of duplicate or missing query terms.\n",
      "querying 1-825...done.\n",
      "Finished.\n",
      "15 input query terms found no hit:\n",
      "\t['ENSG00000116883', 'ENSG00000152022', 'ENSG00000165388', 'ENSG00000231025', 'ENSG00000233280', 'ENS\n",
      "Pass \"returnall=True\" to return complete lists of duplicate or missing query terms.\n",
      "802\n",
      "750\n",
      "Complete.\n",
      "802\n"
     ]
    }
   ],
   "source": [
    "#!usr/bin/env python3\n",
    "import mygene\n",
    "mg = mygene.MyGeneInfo()\n",
    "\n",
    "#reading in upreg txt file\n",
    "ensembl_upreg = []\n",
    "with open('DrugvDMSO.htseq.01.up.geneList.txt') as updata:\n",
    "    updata = updata.readlines()\n",
    "    for gene in updata:\n",
    "        ensembl_upreg.append(gene.strip())\n",
    "        \n",
    "#reading in dnreg txt file\n",
    "ensembl_dnreg = []\n",
    "with open('DrugvDMSO.htseq.01.dn.geneList.txt') as dndata:\n",
    "    dndata = dndata.readlines()\n",
    "    for gene in dndata:\n",
    "        ensembl_dnreg.append(gene.strip())\n",
    "\n",
    "#retrieving genomic positions of genes\n",
    "upreg = mg.querymany(ensembl_upreg , scopes='ensembl.gene', fields='genomic_pos_hg19', species='human', as_dataframe = True)\n",
    "downreg = mg.querymany(ensembl_dnreg , scopes='ensembl.gene', fields='genomic_pos_hg19', species='human', as_dataframe = True)\n",
    "\n",
    "#remove rows with no positions\n",
    "upreg = upreg.dropna(subset=['genomic_pos_hg19.chr'])\n",
    "downreg = downreg.dropna(subset=['genomic_pos_hg19.chr'])\n",
    "\n",
    "#remove rows where genes are from the mitochondria\n",
    "upreg = upreg[upreg['genomic_pos_hg19.chr'] != 'MT']\n",
    "downreg = downreg[downreg['genomic_pos_hg19.chr'] != 'MT']\n",
    "\n",
    "print(len(upreg))\n",
    "print(len(downreg))\n",
    "\n",
    "#write positions of up-reg genes to txt file\n",
    "upreg_pos = open('upreg_pos.txt', 'w')\n",
    "\n",
    "for index, row in upreg.iterrows():\n",
    "    \n",
    "    chromosome = str(row['genomic_pos_hg19.chr'])\n",
    "    start = str(row['genomic_pos_hg19.start'])\n",
    "    end =str(row['genomic_pos_hg19.end'])\n",
    "    \n",
    "    upreg_pos.write('chr' + chromosome + ' ' + start + ' ' + end + '\\n')\n",
    "    #print('chr ' + chromosome + ' ' + start + ' ' + end)\n",
    "    \n",
    "upreg_pos.close()\n",
    "\n",
    "#write positions of up-reg genes to txt file\n",
    "downreg_pos = open('downreg_pos.txt', 'w')\n",
    "\n",
    "for index, row in downreg.iterrows():\n",
    "    \n",
    "    chromosome = str(row['genomic_pos_hg19.chr'])\n",
    "    start = str(row['genomic_pos_hg19.start'])\n",
    "    end =str(row['genomic_pos_hg19.end'])\n",
    "    \n",
    "    downreg_pos.write('chr' + chromosome + ' ' + start + ' ' + end + '\\n')\n",
    "    #print('chr ' + chromosome + ' ' + start + ' ' + end)\n",
    "    \n",
    "downreg_pos.close()\n",
    "print('Complete.')"
   ]
  },
  {
   "cell_type": "code",
   "execution_count": 50,
   "metadata": {},
   "outputs": [
    {
     "name": "stdout",
     "output_type": "stream",
     "text": [
      "7411\n",
      "done\n"
     ]
    }
   ],
   "source": [
    "import pandas as pd\n",
    "\n",
    "data = pd.read_csv('rawcounts', delimiter='\\t')\n",
    "data = data.iloc[:,0:3]\n",
    "print(len(data))\n",
    "file = open('allgenes.txt', 'w')\n",
    "for index, row in data.iterrows():\n",
    "    file.write(row[0] + ' ' + str(row[1]) + ' ' + str(row[2]) + '\\n')\n",
    "file.close()\n",
    "print('done')"
   ]
  },
  {
   "cell_type": "code",
   "execution_count": 56,
   "metadata": {},
   "outputs": [
    {
     "data": {
      "text/plain": [
       "7415"
      ]
     },
     "execution_count": 56,
     "metadata": {},
     "output_type": "execute_result"
    }
   ],
   "source": [
    "ensembl_upreg = []\n",
    "with open('genesym.txt') as updata:\n",
    "    updata = updata.readlines()\n",
    "    for gene in updata:\n",
    "        ensembl_upreg.append(gene.strip())\n",
    "len(ensembl_upreg)"
   ]
  },
  {
   "cell_type": "code",
   "execution_count": 92,
   "metadata": {},
   "outputs": [
    {
     "name": "stdout",
     "output_type": "stream",
     "text": [
      "querying 1-825...done.\n",
      "Finished.\n",
      "15 input query terms found no hit:\n",
      "\t['ENSG00000116883', 'ENSG00000152022', 'ENSG00000165388', 'ENSG00000231025', 'ENSG00000233280', 'ENS\n",
      "Pass \"returnall=True\" to return complete lists of duplicate or missing query terms.\n",
      "Complete.\n"
     ]
    }
   ],
   "source": [
    "import mygene\n",
    "mg = mygene.MyGeneInfo()\n",
    "\n",
    "ensembl_dnreg = []\n",
    "with open('DrugvDMSO.htseq.01.dn.geneList.txt') as dndata:\n",
    "    dndata = dndata.readlines()\n",
    "    for gene in dndata:\n",
    "        ensembl_dnreg.append(gene.strip())\n",
    "\n",
    "dnreg = mg.querymany(ensembl_dnreg, scopes='ensembl.gene', fields=['symbol','summary'], species='human', as_dataframe = True)\n",
    "\n",
    "#pd.options.display.max_colwidth = 1000\n",
    "dnreg = dnreg.dropna(subset=['summary'])\n",
    "#dnreg.iloc[:,2:4]\n",
    "\n",
    "downreg_sum = open('downreg_sum.txt', 'w')\n",
    "\n",
    "for index, row in dnreg.iterrows():\n",
    "\n",
    "    downreg_sum.write(row['symbol'] + '\\n')\n",
    "    downreg_sum.write(row['summary'] + '\\n')\n",
    "    downreg_sum.write('\\n')\n",
    "    \n",
    "downreg_sum.close()\n",
    "print('Complete.')"
   ]
  },
  {
   "cell_type": "code",
   "execution_count": null,
   "metadata": {},
   "outputs": [],
   "source": []
  },
  {
   "cell_type": "markdown",
   "metadata": {},
   "source": []
  }
 ],
 "metadata": {
  "kernelspec": {
   "display_name": "Python 3",
   "language": "python",
   "name": "python3"
  },
  "language_info": {
   "codemirror_mode": {
    "name": "ipython",
    "version": 3
   },
   "file_extension": ".py",
   "mimetype": "text/x-python",
   "name": "python",
   "nbconvert_exporter": "python",
   "pygments_lexer": "ipython3",
   "version": "3.6.8"
  }
 },
 "nbformat": 4,
 "nbformat_minor": 2
}
